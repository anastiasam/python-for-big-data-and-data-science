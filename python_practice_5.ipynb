I. OOP
(6б). Створіть клас Animal, додайте три атрибути, один з яких має значення за замовчуванням та два методи на свій розсуд.
[2]
class Animal:
  def __init__(self, name, species, size=15):
    self.name = name
    self.species = species
    self.size = size

  def eat(self, food):
    print(f"Animal {self.name} likes {food}")

  def size_difference(self, other):
    if isinstance(other, Animal):
      print(f"{abs(self.size - other.size)}")
(2б). Створіть два обʼєкти цього класу, де один з обʼєктів створюється із дефолтним значенням атрибуту. На одному обʼєкті отримайте значення його атрибуту, а на іншому викличте один з його методів.
[3]
0s
new_cat = Animal("Maine Coon", "cat")
new_dog = Animal("Corgi", "dog", 7)

print(new_dog.size)
new_cat.eat("mice")
7
Animal Maine Coon likes mice
(5б). Створіть клас, де атрибути мають різні рівні доступу. Спробуйте отримати їхні значення та опишіть результати.
[4]
0s
class Programs:
  def __init__(self, name, faculty, code):
    self.name = name
    self._faculty = faculty
    self.__code = code

first_program = Programs("Finance, Banking and Insurance", "FES", 72)

print(first_program.name)
print(first_program._faculty)
print(first_program.__code)

Ззовні класу можна підступити лише до public i protected атрибутів. Xоч і неможливість доступу до protected атрибутів не реалізована програмно, проте існує серед розробників на домовленостях. Намагання підступити до private атрибуту викликає помилку.

(7б). Як ви розумієте термін self? Для чого використовується метод __init __?
Self це стандартна назва першого аргументу, який пов'язує атрибути класу із заданими аргументами. Метод init (іншими словами конструктор) використовується для ініціалізації об'єктів класу.

(9б). Створіть клас Фігура без атрибутів, з методом get_area для отримання площі фігури, що повертає 0 та __add __, який приймає self та other в якості аргументів, а повертає суму площин фігур self та other.
[5]
class Figure:

  def get_area(self):
    return 0

  def __add__(self, other):
    return self.get_area() + other.get_area()
(11б). Створіть 2 дочірніх класи від Фігури: Трикутник та Коло, які мають атрибути, необхідні для розрахунку площин. Визначте метод get_area в кожному з них так, щоби вони розраховували площу в залежності від формули для кожного типу фігури. Створіть обʼєкт класу Трикутник та обʼєкт класу Коло. Виконайте операцію суми за допомогою оператора + між ними.
[7]
0s
import math

class Triangle(Figure):

  def __init__(self, side, height):
    self.side = side
    self.height = height

  def get_area(self):
    return 0.5 * self.side * self.height

class Circle(Figure):

  def __init__(self, radius):
    self.radius = radius

  def get_area(self):
    return self.radius**2 * math.pi

triangle = Triangle(5, 6)
circle = Circle(7)

print(triangle + circle)
168.93804002589985
(3б). Продемонструйте різницю між isinstance та issubclass.
[8]
0s
print(isinstance(Triangle, Figure))
print(issubclass(Triangle, Figure))
print(issubclass(Triangle, Triangle))
print(isinstance(triangle, Triangle))
print(isinstance(triangle, Figure))
False
True
True
True
True
(13б). Створіть клас BankAccount з приватними атрибутами balance та account_number. Реалізуйте методи поповнення та зняття коштів, забезпечивши належну інкапсуляцію. Підказка: використовуйте декоратори property та setter.
[10]
0s
class BankAccount:

  def __init__(self, balance, account_number):
    self.__balance = balance
    self.__account_number = account_number

  @property
  def balance(self):
    return self.__balance

  @balance.setter
  def balance(self, value):
    self.__balance = value

  @property
  def account_number(self):
    return self.__account_number

  @account_number.setter
  def account_number(self, value):
    self.__account_number = value

  def replenishment_of_money(self, money):
    self.__balance += money

  def withdrawal_of_money(self, money):
    if money <= self.__balance:
      self.__balance -= money
    else:
      print("Can't withdraw money")

bank_account = BankAccount(3000, 11414)
print(bank_account.balance)
bank_account.replenishment_of_money(100)
print(bank_account.balance)
bank_account.withdrawal_of_money(300)
print(bank_account.balance)
bank_account.withdrawal_of_money(2200)
print(bank_account.balance)
3000
3100
2800
600
(11б). Створіть клас Library, який містить список об'єктів типу Book. Реалізуйте методи для додавання книги, видалення книги та відображення списку книг.
[12]
0s
class Book:

  def __init__(self, author, title):
    self.author = author
    self.title = title

  def __str__(self):
    return f"Author – {self.author}, title – {self.title}"

class Library:
  def __init__(self):
     self.list_of_books = []
  def __str__(self):
    my_list = '\n'.join(str(book) for book in self.list_of_books)
    return f"List of books: \n{my_list}"

  def add_book(self, book):
    if isinstance(book, Book):
      self.list_of_books.append(book)
    else:
      print(f"{book} isn't found")

  def delete_book(self, book):
    if book in self.list_of_books:
      self.list_of_books.remove(book)
    else:
      print(f"{book} isn't found")

book_1 = Book("Donna Tartt", "The Secret History")
book_2 = Book("Taylor Jenkins Reid", "The Seven Husbands of Evelyn Hugo")
book_3 = Book("John P. Strelecky", "The Cafe on the Edge of the World")

library = Library()
library.add_book(book_1)
library.add_book(book_2)
library.add_book(book_3)
print(library)
library.delete_book(book_1)
print(library)
List of books: 
Author – Donna Tartt, title – The Secret History
Author – Taylor Jenkins Reid, title – The Seven Husbands of Evelyn Hugo
Author – John P. Strelecky, title – The Cafe on the Edge of the World
List of books: 
Author – Taylor Jenkins Reid, title – The Seven Husbands of Evelyn Hugo
Author – John P. Strelecky, title – The Cafe on the Edge of the World
(13б). Створіть клас Person з атрибутами name та age. Створіть ще один клас Employee з такими атрибутами, як department та salary. Створіть клас Manager, який успадковує обидва класи Person та Employee. Продемонструйте використання множинної спадковості, створивши обʼєкт класу Manager та отримавши mro для цього класу.
[13]
0s
class Person:

  def __init__(self, name, age):
    self.name = name
    self.age = age

class Employee:

  def __init__(self, department, salary):
    self.department = department
    self.salary = salary

class Manager(Person, Employee):
  def __init__(self, name, age, department, salary):
    Person.__init__(self, name, age)
    Employee.__init__(self, department, salary)

manager = Manager("Olha", 48, "HR", 27500)
Manager.__mro__
(__main__.Manager, __main__.Person, __main__.Employee, object)
II. Iterator
(4б). Визначте рядок(str) з 4ма різними за значенням символами. Створіть ітератор на основі цього рядка. Викличте 5 разів функцію next на ітераторі, 4ри перших з них огорніть у ф-цію print().
[14]
0s
my_str = '1234'
my_str_iter = iter(my_str)
print(next(my_str_iter))
print(next(my_str_iter))
print(next(my_str_iter))
print(next(my_str_iter))
print(next(my_str_iter))

А що якщо викликати цю ж функцію на рядку?

[15]
0s
next(my_str)

(5б). Опишіть своїми словами в одному реченні, як ви розумієте різницю між ітерабельними обʼєктами та ітераторами (можна на прикладі).
Ітерабельні об'єкти це здебільшого лінійні набори даних, по яким можна проходитись в циклі (наприклад, списки, кортежі, словники, сети). Ітератори – це об'єкти, які використовуються, щоб ітеруватися по ітерабельних об'єктах. Ітераторами є ті об'єкти, в класі, представниками яких вони є, визначені методи iter() і next().

(11б). Створіть клас, що має визначений Iterator Protocol та при кожному виклику next повертає літери англійської абетки, поки вони не вичерпаються.
[18]
0s
class Alphabet:
  def __init__(self):
    self.current = "a"

  def __iter__(self):
    return self

  def __next__(self):
    if ord(self.current) > ord("z"):
      raise StopIteration
    else:
      result = self.current
      self.current = chr(ord(self.current)+1)
      return result

alphabet = Alphabet()
for i in alphabet:
    print(i)
a
b
c
d
e
f
g
h
i
j
k
l
m
n
o
p
q
r
s
t
u
v
w
x
y
z
Вітаю! Ви велика(ий) молодець, що впоралась(вся). Похваліть себе та побалуйте чимось приємним. Я Вами пишаюся.
